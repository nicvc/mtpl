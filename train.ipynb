{
 "cells": [
  {
   "cell_type": "markdown",
   "metadata": {},
   "source": [
    "# Modellieren und Auswerten"
   ]
  },
  {
   "cell_type": "code",
   "execution_count": 1,
   "metadata": {},
   "outputs": [],
   "source": [
    "import pandas as pd\n",
    "import numpy as np\n",
    "from sklearn.model_selection import train_test_split\n",
    "from catboost import CatBoostRegressor, Pool\n",
    "import matplotlib.pyplot as plt\n",
    "from mtpl.data_util import load_freq_df, load_sev_df, print_data_summary\n",
    "from mtpl.eval_util import get_metrics, plot_quantiles\n",
    "random_state = np.random.RandomState(20241119)"
   ]
  },
  {
   "cell_type": "markdown",
   "metadata": {},
   "source": [
    "## Preprocessing"
   ]
  },
  {
   "cell_type": "markdown",
   "metadata": {},
   "source": [
    "Wir laden die Daten, führen beide Datensätze zusammen und berechnen die Zielvariable."
   ]
  },
  {
   "cell_type": "code",
   "execution_count": 2,
   "metadata": {},
   "outputs": [],
   "source": [
    "freq_df = load_freq_df()\n",
    "sev_df = load_sev_df()"
   ]
  },
  {
   "cell_type": "code",
   "execution_count": 3,
   "metadata": {},
   "outputs": [
    {
     "name": "stdout",
     "output_type": "stream",
     "text": [
      "Daten 668896, positive Zielvariable: 24943 (3.73%)\n"
     ]
    }
   ],
   "source": [
    "categorical_features = [\"Area\", \"VehBrand\", \"VehGas\", \"Region\"]\n",
    "numerical_features = [\"VehPower\", \"VehAge\", \"DrivAge\", \"BonusMalus\", \"Density\"]\n",
    "features = [*categorical_features, *numerical_features]\n",
    "\n",
    "claims_by_pol = sev_df.groupby(\"IDpol\").agg(\n",
    "    claim_count=pd.NamedAgg(column=\"IDpol\", aggfunc=\"count\"),\n",
    "    claim_amount=pd.NamedAgg(column=\"ClaimAmount\", aggfunc=\"sum\"),\n",
    ")\n",
    "merge_df = freq_df.merge(claims_by_pol, how=\"left\", left_on=\"IDpol\", right_index=True)\n",
    "merge_df[\"claim_count\"] = merge_df[\"claim_count\"].fillna(0)\n",
    "merge_df[\"claim_amount\"] = merge_df[\"claim_amount\"].fillna(0.0)\n",
    "\n",
    "df = merge_df[merge_df[\"ClaimNb\"] == merge_df[\"claim_count\"]].copy()\n",
    "df[numerical_features] = df[numerical_features].clip(upper=df[numerical_features].quantile(0.95), axis=1)\n",
    "df[\"claims_per_year\"] = (df[\"claim_count\"] / df[\"Exposure\"])\n",
    "df[\"claim_amount_per_year\"] = (df[\"claim_amount\"] / df[\"Exposure\"])\n",
    "print_data_summary(df, \"claims_per_year\")"
   ]
  },
  {
   "cell_type": "markdown",
   "metadata": {},
   "source": [
    "Wir teilen die Daten in Trainings- und Testdatensatz auf. In beiden Datensätzen wollen wir den gleichen Anteil an positiven Zielvariablen."
   ]
  },
  {
   "cell_type": "code",
   "execution_count": 4,
   "metadata": {},
   "outputs": [
    {
     "name": "stdout",
     "output_type": "stream",
     "text": [
      "Daten 535116, positive Zielvariable: 19954 (3.73%)\n",
      "Daten 133780, positive Zielvariable: 4989 (3.73%)\n"
     ]
    }
   ],
   "source": [
    "stratify_by = (df[\"claim_amount_per_year\"] > 0).astype(int)\n",
    "train_plus_df, test_df = train_test_split(df, test_size=0.2, random_state=random_state, stratify=stratify_by)\n",
    "n_test = test_df.shape[0]\n",
    "print_data_summary(train_plus_df, \"claim_amount_per_year\")\n",
    "print_data_summary(test_df, \"claim_amount_per_year\")"
   ]
  },
  {
   "cell_type": "markdown",
   "metadata": {},
   "source": [
    "Im Trainingsdatensatz erstellen wir gestutzte Versionen der Zielvariable um den Einfluss von Ausreißern zu verringern."
   ]
  },
  {
   "cell_type": "code",
   "execution_count": 5,
   "metadata": {},
   "outputs": [],
   "source": [
    "train_plus_df[\"claims_per_year_clipped\"] = train_plus_df[\"claims_per_year\"].clip(upper=5)\n",
    "train_plus_df[\"claim_amount_per_year_clipped\"] = train_plus_df[\"claim_amount_per_year\"].clip(upper=1e4)"
   ]
  },
  {
   "cell_type": "markdown",
   "metadata": {},
   "source": [
    "## Metriken und Evaluierung\n",
    "Für jeden Vertrag soll die zu erwartende Schadenshöhe pro Jahr vorhergesagt werden. Dies ist ein Regressionsproblem. Das Modell werden wir mit dem quadratischen Fehler (rmse) als Zielfunktion trainieren. Für die finale Auswertung des Modells oder den Vergleich verschiedener Modelle eignet sich die quadratische Fehlerfunktion weniger, da sie von Ausreißern dominiert wird. Der absolute Fehler (mae) liegt nahe, da dieser den Geldbetrag angibt um den die Vorhersage daneben liegt und somit eng mit der Business Metric verbunden ist. Alleine nach absolutem Fehler zu optimieren ist ungünstig, da ~96% aller Werte der Zielvariable 0 sind und der absolute Fehler nach Modus (häufigster Wert) optimiert. Somit ist es schwer einen geringen absoluten Fehler zu erhalten als die konstante Vorhersage, dass der Schaden immer 0 ist. Dies liegt auch am starken Noise in der Zielvariablen. Für uns ist auch die Verzerrung (bias) interessant: Wenn wir für 1000 Verträge den Schaden vorhersagen, sollte der vorhergesagte Schaden im Durchschnitt gleich groß wie der wirkliche Schaden sein. Außerdem betrachten wir die Zielvariable als binäres Signal (Schaden ist positiv) und berechnen den Average Precision Score um zu schauen ob unser Modell die Verträge sinnvoll nach Schadenswahrscheinlichkeit sortiert."
   ]
  },
  {
   "cell_type": "markdown",
   "metadata": {},
   "source": [
    "Zunächst berechnen wir die Metriken auf den konstanten Vorhersagen Durchschnitt und 0. Dadurch kriegen wir ein Gefühl für die Größenscala der Metriken und können zukünftige Vorhersagen damit vergleichen."
   ]
  },
  {
   "cell_type": "code",
   "execution_count": 6,
   "metadata": {},
   "outputs": [
    {
     "name": "stdout",
     "output_type": "stream",
     "text": [
      "Durchschnitt: 173.24\n",
      "{'rmse': 6723.865835865735, 'mae': 310.45055684338513, 'bias': -19.783509645888252, 'aps': 0.04892442385358757}\n",
      "Konstant 0\n",
      "{'rmse': 6725.587737119626, 'mae': 153.46015191364987, 'bias': 153.46015191364987, 'aps': 0.04892442385358757}\n"
     ]
    }
   ],
   "source": [
    "global_mean = np.average(train_plus_df[\"claim_amount_per_year\"], weights=train_plus_df[\"Exposure\"])\n",
    "print(f\"Durchschnitt: {global_mean:.2f}\")\n",
    "global_mean_metrics = get_metrics(test_df[\"claim_amount_per_year\"], np.ones(n_test) * global_mean, weights=test_df[\"Exposure\"])\n",
    "print(global_mean_metrics)\n",
    "print(\"Konstant 0\")\n",
    "constant_zero_metrics = get_metrics(test_df[\"claim_amount_per_year\"], np.zeros(n_test), weights=test_df[\"Exposure\"])\n",
    "print(constant_zero_metrics)\n",
    "evaluations = [\n",
    "    {\"model_name\": \"global_mean\", **global_mean_metrics},\n",
    "    {\"model_name\": \"constant_zero\", **constant_zero_metrics},\n",
    "]"
   ]
  },
  {
   "cell_type": "markdown",
   "metadata": {},
   "source": [
    "## Modell trainieren\n",
    "Zunächst unterteilen wir den Trainingsdatensatz nochmal in ein Trainings- und Evaluierungsdatensatz."
   ]
  },
  {
   "cell_type": "code",
   "execution_count": 7,
   "metadata": {},
   "outputs": [
    {
     "name": "stdout",
     "output_type": "stream",
     "text": [
      "Daten 428092, positive Zielvariable: 15963 (3.73%)\n",
      "Daten 107024, positive Zielvariable: 3991 (3.73%)\n"
     ]
    }
   ],
   "source": [
    "train_stratify_by = (train_plus_df[\"claim_amount_per_year\"] > 0).astype(int)\n",
    "train_df, valid_df = train_test_split(train_plus_df, test_size=0.2, random_state=random_state, stratify=train_stratify_by)\n",
    "print_data_summary(train_df, target_col=\"claim_amount_per_year\")\n",
    "print_data_summary(valid_df, target_col=\"claim_amount_per_year\")"
   ]
  },
  {
   "cell_type": "markdown",
   "metadata": {},
   "source": [
    "### CatBoost Regressionsmodell\n",
    "Wir testen CatBoost als Regressionsmodell. CatBoost als Gradient Boosting Algorithmus basierend auf Decision Trees kann sehr gut mit heterogenen (Mix aus kategorischen und numerischen) Features umgehen, hat ein starkes eingebautes Encoding für kategorische Features und performt sehr gut mit den Default-Einstellungen."
   ]
  },
  {
   "cell_type": "code",
   "execution_count": 8,
   "metadata": {},
   "outputs": [
    {
     "name": "stdout",
     "output_type": "stream",
     "text": [
      "Learning rate set to 0.3519\n",
      "0:\tlearn: 629.7906837\ttest: 630.5895006\tbest: 630.5895006 (0)\ttotal: 169ms\tremaining: 33.6s\n",
      "20:\tlearn: 626.8395527\ttest: 628.2352142\tbest: 628.2297690 (17)\ttotal: 1.47s\tremaining: 12.6s\n",
      "40:\tlearn: 626.1031080\ttest: 628.1968161\tbest: 628.1568549 (26)\ttotal: 2.54s\tremaining: 9.84s\n",
      "60:\tlearn: 624.6847300\ttest: 628.3102900\tbest: 628.1568549 (26)\ttotal: 3.67s\tremaining: 8.38s\n",
      "Stopped by overfitting detector  (50 iterations wait)\n",
      "\n",
      "bestTest = 628.1568549\n",
      "bestIteration = 26\n",
      "\n",
      "Shrink model to first 27 iterations.\n"
     ]
    },
    {
     "data": {
      "text/plain": [
       "<catboost.core.CatBoostRegressor at 0x7f3e72a4d490>"
      ]
     },
     "execution_count": 8,
     "metadata": {},
     "output_type": "execute_result"
    }
   ],
   "source": [
    "train_pool = Pool(\n",
    "    train_df[features],\n",
    "    train_df[\"claim_amount_per_year_clipped\"],\n",
    "    cat_features=categorical_features,\n",
    "    weight=train_df[\"Exposure\"],\n",
    ")\n",
    "eval_pool = Pool(\n",
    "    valid_df[features],\n",
    "    valid_df[\"claim_amount_per_year_clipped\"],\n",
    "    cat_features=categorical_features,\n",
    "    weight=valid_df[\"Exposure\"],\n",
    ")\n",
    "model = CatBoostRegressor(iterations=200, loss_function=\"RMSE\")\n",
    "model.fit(train_pool, eval_set=eval_pool, early_stopping_rounds=50, verbose=20)"
   ]
  },
  {
   "cell_type": "code",
   "execution_count": 9,
   "metadata": {},
   "outputs": [
    {
     "data": {
      "text/html": [
       "<div>\n",
       "<style scoped>\n",
       "    .dataframe tbody tr th:only-of-type {\n",
       "        vertical-align: middle;\n",
       "    }\n",
       "\n",
       "    .dataframe tbody tr th {\n",
       "        vertical-align: top;\n",
       "    }\n",
       "\n",
       "    .dataframe thead th {\n",
       "        text-align: right;\n",
       "    }\n",
       "</style>\n",
       "<table border=\"1\" class=\"dataframe\">\n",
       "  <thead>\n",
       "    <tr style=\"text-align: right;\">\n",
       "      <th></th>\n",
       "      <th>Feature Id</th>\n",
       "      <th>Importances</th>\n",
       "    </tr>\n",
       "  </thead>\n",
       "  <tbody>\n",
       "    <tr>\n",
       "      <th>0</th>\n",
       "      <td>BonusMalus</td>\n",
       "      <td>54.573566</td>\n",
       "    </tr>\n",
       "    <tr>\n",
       "      <th>1</th>\n",
       "      <td>DrivAge</td>\n",
       "      <td>15.169727</td>\n",
       "    </tr>\n",
       "    <tr>\n",
       "      <th>2</th>\n",
       "      <td>VehAge</td>\n",
       "      <td>10.493929</td>\n",
       "    </tr>\n",
       "    <tr>\n",
       "      <th>3</th>\n",
       "      <td>VehBrand</td>\n",
       "      <td>5.547246</td>\n",
       "    </tr>\n",
       "    <tr>\n",
       "      <th>4</th>\n",
       "      <td>VehPower</td>\n",
       "      <td>4.218756</td>\n",
       "    </tr>\n",
       "    <tr>\n",
       "      <th>5</th>\n",
       "      <td>Density</td>\n",
       "      <td>3.756314</td>\n",
       "    </tr>\n",
       "    <tr>\n",
       "      <th>6</th>\n",
       "      <td>Region</td>\n",
       "      <td>2.847541</td>\n",
       "    </tr>\n",
       "    <tr>\n",
       "      <th>7</th>\n",
       "      <td>VehGas</td>\n",
       "      <td>1.865274</td>\n",
       "    </tr>\n",
       "    <tr>\n",
       "      <th>8</th>\n",
       "      <td>Area</td>\n",
       "      <td>1.527647</td>\n",
       "    </tr>\n",
       "  </tbody>\n",
       "</table>\n",
       "</div>"
      ],
      "text/plain": [
       "   Feature Id  Importances\n",
       "0  BonusMalus    54.573566\n",
       "1     DrivAge    15.169727\n",
       "2      VehAge    10.493929\n",
       "3    VehBrand     5.547246\n",
       "4    VehPower     4.218756\n",
       "5     Density     3.756314\n",
       "6      Region     2.847541\n",
       "7      VehGas     1.865274\n",
       "8        Area     1.527647"
      ]
     },
     "execution_count": 9,
     "metadata": {},
     "output_type": "execute_result"
    }
   ],
   "source": [
    "model.get_feature_importance(prettified=True)"
   ]
  },
  {
   "cell_type": "code",
   "execution_count": 10,
   "metadata": {},
   "outputs": [
    {
     "data": {
      "text/plain": [
       "count    133780.000000\n",
       "mean        102.401862\n",
       "std          73.357045\n",
       "min         -42.027481\n",
       "25%          60.549956\n",
       "50%          78.938120\n",
       "75%         114.591422\n",
       "max         818.325917\n",
       "dtype: float64"
      ]
     },
     "execution_count": 10,
     "metadata": {},
     "output_type": "execute_result"
    }
   ],
   "source": [
    "pd.Series(model.predict(test_df[features])).describe()"
   ]
  },
  {
   "cell_type": "markdown",
   "metadata": {},
   "source": [
    "Das Regressionsmodell sagt auch negative Werte vorher, das ist nicht optimal. Wir erzwingen, dass die Vorhersagen mindestens 0 sind und kalibrieren um ein möglichst unverzehrtes Ergebnis zu erhalten."
   ]
  },
  {
   "cell_type": "code",
   "execution_count": 11,
   "metadata": {},
   "outputs": [
    {
     "name": "stdout",
     "output_type": "stream",
     "text": [
      "1.8342974174916855\n",
      "{'rmse': 6722.952221912382, 'mae': 303.97603514530084, 'bias': -20.371276312982395, 'aps': 0.09606425532535157}\n"
     ]
    }
   ],
   "source": [
    "train_predictions = np.clip(model.predict(train_plus_df[features]), 0, None)\n",
    "calibration_factor = (\n",
    "    np.average(train_plus_df[\"claim_amount_per_year\"], weights=train_plus_df[\"Exposure\"])\n",
    "    / np.average(train_predictions, weights=train_plus_df[\"Exposure\"])\n",
    ")\n",
    "print(calibration_factor)\n",
    "test_predictions = np.clip(model.predict(test_df[features]), 0, None) * calibration_factor\n",
    "regression_metrics = get_metrics(test_df[\"claim_amount_per_year\"], test_predictions, weights=test_df[\"Exposure\"])\n",
    "print(regression_metrics)\n",
    "evaluations.append({\"model_name\": \"regression_model\", **regression_metrics})"
   ]
  },
  {
   "cell_type": "code",
   "execution_count": 12,
   "metadata": {},
   "outputs": [
    {
     "data": {
      "image/png": "[encoded data removed]",
      "text/plain": [
       "<Figure size 400x300 with 1 Axes>"
      ]
     },
     "metadata": {},
     "output_type": "display_data"
    }
   ],
   "source": [
    "fig, ax = plt.subplots(figsize=(4,3))\n",
    "ax.hist(np.clip(test_predictions, None, 1000), weights=test_df[\"Exposure\"]);"
   ]
  },
  {
   "cell_type": "markdown",
   "metadata": {},
   "source": [
    "Das Ziel des Modells ist es, das wir Kunden je nach zu erwartender Schadenshöhe einen individuellen Preis anbieten können. Deshalb unterteilen wir die Testdaten in 10 gleiche Teile (nach Gewicht) und vergleichen den durchschnittlichen Schaden mit der durchschnittlichen Vorhersage."
   ]
  },
  {
   "cell_type": "code",
   "execution_count": 13,
   "metadata": {},
   "outputs": [
    {
     "data": {
      "image/png": "[encoded data removed]",
      "text/plain": [
       "<Figure size 400x300 with 1 Axes>"
      ]
     },
     "metadata": {},
     "output_type": "display_data"
    }
   ],
   "source": [
    "plot_quantiles(test_df[\"claim_amount_per_year\"], test_predictions, weights=test_df[\"Exposure\"], figsize=(4,3));"
   ]
  },
  {
   "cell_type": "markdown",
   "metadata": {},
   "source": [
    "### CatBoost Frequenzmodell\n",
    "Da das Regressionsmodell auch negative Werte ausgibt testen wir noch eine andere Variante. Wir sagen für jeden Vertrag die zu erwartende Anzahl der Schadensfälle pro Jahr voraus. Für jeden Schadensfall nehmen wir erstmal einen konstanten Betrag an und können die Schadenshöhe pro Jahr bestimmen."
   ]
  },
  {
   "cell_type": "code",
   "execution_count": 14,
   "metadata": {},
   "outputs": [
    {
     "name": "stdout",
     "output_type": "stream",
     "text": [
      "0:\tlearn: 0.9265047\ttest: 0.9265479\tbest: 0.9265479 (0)\ttotal: 130ms\tremaining: 25.9s\n",
      "20:\tlearn: 0.3670234\ttest: 0.3675219\tbest: 0.3675219 (20)\ttotal: 2.23s\tremaining: 19s\n",
      "40:\tlearn: 0.2762650\ttest: 0.2770693\tbest: 0.2770693 (40)\ttotal: 4.14s\tremaining: 16.1s\n",
      "60:\tlearn: 0.2555480\ttest: 0.2565098\tbest: 0.2565098 (60)\ttotal: 5.92s\tremaining: 13.5s\n",
      "80:\tlearn: 0.2497772\ttest: 0.2508491\tbest: 0.2508491 (80)\ttotal: 8.08s\tremaining: 11.9s\n",
      "100:\tlearn: 0.2474012\ttest: 0.2486191\tbest: 0.2486191 (100)\ttotal: 10s\tremaining: 9.84s\n",
      "120:\tlearn: 0.2463720\ttest: 0.2477285\tbest: 0.2477285 (120)\ttotal: 12.1s\tremaining: 7.92s\n",
      "140:\tlearn: 0.2457087\ttest: 0.2471366\tbest: 0.2471366 (140)\ttotal: 14.2s\tremaining: 5.94s\n",
      "160:\tlearn: 0.2453333\ttest: 0.2468625\tbest: 0.2468625 (160)\ttotal: 16.3s\tremaining: 3.96s\n",
      "180:\tlearn: 0.2450451\ttest: 0.2466440\tbest: 0.2466440 (180)\ttotal: 18.3s\tremaining: 1.92s\n",
      "199:\tlearn: 0.2447989\ttest: 0.2464703\tbest: 0.2464703 (199)\ttotal: 20.2s\tremaining: 0us\n",
      "\n",
      "bestTest = 0.2464702827\n",
      "bestIteration = 199\n",
      "\n"
     ]
    },
    {
     "data": {
      "text/plain": [
       "<catboost.core.CatBoostRegressor at 0x7f3e72a03920>"
      ]
     },
     "execution_count": 14,
     "metadata": {},
     "output_type": "execute_result"
    }
   ],
   "source": [
    "freq_train_pool = Pool(\n",
    "    train_df[features],\n",
    "    train_df[\"claims_per_year_clipped\"],\n",
    "    cat_features=categorical_features,\n",
    "    weight=train_df[\"Exposure\"],\n",
    ")\n",
    "freq_eval_pool = Pool(\n",
    "    valid_df[features],\n",
    "    valid_df[\"claims_per_year_clipped\"],\n",
    "    cat_features=categorical_features,\n",
    "    weight=valid_df[\"Exposure\"],\n",
    ")\n",
    "freq_model = CatBoostRegressor(iterations=200, loss_function=\"Poisson\")\n",
    "freq_model.fit(freq_train_pool, eval_set=freq_eval_pool, early_stopping_rounds=50, verbose=20)"
   ]
  },
  {
   "cell_type": "code",
   "execution_count": 15,
   "metadata": {},
   "outputs": [
    {
     "data": {
      "text/html": [
       "<div>\n",
       "<style scoped>\n",
       "    .dataframe tbody tr th:only-of-type {\n",
       "        vertical-align: middle;\n",
       "    }\n",
       "\n",
       "    .dataframe tbody tr th {\n",
       "        vertical-align: top;\n",
       "    }\n",
       "\n",
       "    .dataframe thead th {\n",
       "        text-align: right;\n",
       "    }\n",
       "</style>\n",
       "<table border=\"1\" class=\"dataframe\">\n",
       "  <thead>\n",
       "    <tr style=\"text-align: right;\">\n",
       "      <th></th>\n",
       "      <th>Feature Id</th>\n",
       "      <th>Importances</th>\n",
       "    </tr>\n",
       "  </thead>\n",
       "  <tbody>\n",
       "    <tr>\n",
       "      <th>0</th>\n",
       "      <td>BonusMalus</td>\n",
       "      <td>53.935641</td>\n",
       "    </tr>\n",
       "    <tr>\n",
       "      <th>1</th>\n",
       "      <td>DrivAge</td>\n",
       "      <td>14.450980</td>\n",
       "    </tr>\n",
       "    <tr>\n",
       "      <th>2</th>\n",
       "      <td>VehAge</td>\n",
       "      <td>8.511367</td>\n",
       "    </tr>\n",
       "    <tr>\n",
       "      <th>3</th>\n",
       "      <td>Density</td>\n",
       "      <td>8.279540</td>\n",
       "    </tr>\n",
       "    <tr>\n",
       "      <th>4</th>\n",
       "      <td>Region</td>\n",
       "      <td>4.050313</td>\n",
       "    </tr>\n",
       "    <tr>\n",
       "      <th>5</th>\n",
       "      <td>VehGas</td>\n",
       "      <td>3.703958</td>\n",
       "    </tr>\n",
       "    <tr>\n",
       "      <th>6</th>\n",
       "      <td>VehBrand</td>\n",
       "      <td>3.186016</td>\n",
       "    </tr>\n",
       "    <tr>\n",
       "      <th>7</th>\n",
       "      <td>VehPower</td>\n",
       "      <td>3.116420</td>\n",
       "    </tr>\n",
       "    <tr>\n",
       "      <th>8</th>\n",
       "      <td>Area</td>\n",
       "      <td>0.765764</td>\n",
       "    </tr>\n",
       "  </tbody>\n",
       "</table>\n",
       "</div>"
      ],
      "text/plain": [
       "   Feature Id  Importances\n",
       "0  BonusMalus    53.935641\n",
       "1     DrivAge    14.450980\n",
       "2      VehAge     8.511367\n",
       "3     Density     8.279540\n",
       "4      Region     4.050313\n",
       "5      VehGas     3.703958\n",
       "6    VehBrand     3.186016\n",
       "7    VehPower     3.116420\n",
       "8        Area     0.765764"
      ]
     },
     "execution_count": 15,
     "metadata": {},
     "output_type": "execute_result"
    }
   ],
   "source": [
    "freq_model.get_feature_importance(prettified=True)"
   ]
  },
  {
   "cell_type": "code",
   "execution_count": 16,
   "metadata": {},
   "outputs": [
    {
     "data": {
      "text/plain": [
       "count    133780.000000\n",
       "mean          0.076272\n",
       "std           0.046110\n",
       "min           0.016530\n",
       "25%           0.049199\n",
       "50%           0.060075\n",
       "75%           0.086438\n",
       "max           0.636209\n",
       "dtype: float64"
      ]
     },
     "execution_count": 16,
     "metadata": {},
     "output_type": "execute_result"
    }
   ],
   "source": [
    "pd.Series(freq_model.predict(test_df[features])).describe()"
   ]
  },
  {
   "cell_type": "code",
   "execution_count": 17,
   "metadata": {},
   "outputs": [
    {
     "name": "stdout",
     "output_type": "stream",
     "text": [
      "2439.617255585261\n"
     ]
    }
   ],
   "source": [
    "amount_per_claim = (\n",
    "    np.average(train_plus_df[\"claim_amount_per_year\"], weights=train_plus_df[\"Exposure\"])\n",
    "    / np.average(freq_model.predict(train_plus_df[features]), weights=train_plus_df[\"Exposure\"])\n",
    ")\n",
    "print(amount_per_claim)\n",
    "freq_predictions = freq_model.predict(test_df[features]) * amount_per_claim"
   ]
  },
  {
   "cell_type": "code",
   "execution_count": 18,
   "metadata": {},
   "outputs": [
    {
     "name": "stdout",
     "output_type": "stream",
     "text": [
      "{'rmse': 6723.029622033867, 'mae': 305.1023687256173, 'bias': -20.244319705264427, 'aps': 0.09432986981661187}\n"
     ]
    }
   ],
   "source": [
    "freq_metrics = get_metrics(test_df[\"claim_amount_per_year\"], freq_predictions, weights=test_df[\"Exposure\"])\n",
    "print(freq_metrics)\n",
    "evaluations.append({\"model_name\": \"freq_model\", **freq_metrics})"
   ]
  },
  {
   "cell_type": "code",
   "execution_count": 19,
   "metadata": {},
   "outputs": [
    {
     "data": {
      "image/png": "[encoded data removed]",
      "text/plain": [
       "<Figure size 400x300 with 1 Axes>"
      ]
     },
     "metadata": {},
     "output_type": "display_data"
    }
   ],
   "source": [
    "fig, ax = plt.subplots(figsize=(4,3))\n",
    "ax.hist(np.clip(freq_predictions, None, 1000), weights=test_df[\"Exposure\"]);"
   ]
  },
  {
   "cell_type": "code",
   "execution_count": 20,
   "metadata": {},
   "outputs": [
    {
     "data": {
      "image/png": "[encoded data removed]",
      "text/plain": [
       "<Figure size 400x300 with 1 Axes>"
      ]
     },
     "metadata": {},
     "output_type": "display_data"
    }
   ],
   "source": [
    "plot_quantiles(test_df[\"claim_amount_per_year\"], freq_predictions, weights=test_df[\"Exposure\"], figsize=(4,3));"
   ]
  },
  {
   "cell_type": "markdown",
   "metadata": {},
   "source": [
    "### Kombiniertes Modell\n",
    "Wir trainieren ein Regressionsmodell, das im Falle eines Schadens die Höhe vorhersagt. Diesen Wert können wir mit der Vorhersage des Frequenzmodells multiplizieren."
   ]
  },
  {
   "cell_type": "code",
   "execution_count": 21,
   "metadata": {},
   "outputs": [],
   "source": [
    "train_amount = sev_df.merge(train_df[[\"IDpol\", *features]], how=\"inner\", on=\"IDpol\")\n",
    "valid_amount = sev_df.merge(valid_df[[\"IDpol\", *features]], how=\"inner\", on=\"IDpol\")\n",
    "train_amount[\"claim_amount_clipped\"] = train_amount[\"ClaimAmount\"].clip(upper=1e4)\n",
    "valid_amount[\"claim_amount_clipped\"] = valid_amount[\"ClaimAmount\"].clip(upper=1e4)"
   ]
  },
  {
   "cell_type": "code",
   "execution_count": 22,
   "metadata": {},
   "outputs": [
    {
     "name": "stdout",
     "output_type": "stream",
     "text": [
      "Learning rate set to 0.21189\n",
      "0:\tlearn: 1736.6373198\ttest: 1695.2242160\tbest: 1695.2242160 (0)\ttotal: 3.84ms\tremaining: 764ms\n",
      "20:\tlearn: 1723.8101811\ttest: 1693.1594300\tbest: 1692.5507800 (18)\ttotal: 55.3ms\tremaining: 472ms\n",
      "40:\tlearn: 1714.3473883\ttest: 1693.4638988\tbest: 1692.5507800 (18)\ttotal: 99.4ms\tremaining: 386ms\n",
      "60:\tlearn: 1705.2538835\ttest: 1694.9546844\tbest: 1692.5507800 (18)\ttotal: 148ms\tremaining: 337ms\n",
      "Stopped by overfitting detector  (50 iterations wait)\n",
      "\n",
      "bestTest = 1692.55078\n",
      "bestIteration = 18\n",
      "\n",
      "Shrink model to first 19 iterations.\n"
     ]
    },
    {
     "data": {
      "text/plain": [
       "<catboost.core.CatBoostRegressor at 0x7f3e72a0c9b0>"
      ]
     },
     "execution_count": 22,
     "metadata": {},
     "output_type": "execute_result"
    }
   ],
   "source": [
    "amount_model = CatBoostRegressor(iterations=200, loss_function=\"RMSE\")\n",
    "amount_model.fit(\n",
    "    train_amount[features],\n",
    "    train_amount[\"claim_amount_clipped\"],\n",
    "    cat_features=categorical_features,\n",
    "    eval_set=(valid_amount[features], valid_amount[\"claim_amount_clipped\"]),\n",
    "    early_stopping_rounds=50,\n",
    "    verbose=20,\n",
    ")"
   ]
  },
  {
   "cell_type": "markdown",
   "metadata": {},
   "source": [
    "Vorhersagen erstellen und kalibrieren."
   ]
  },
  {
   "cell_type": "code",
   "execution_count": 23,
   "metadata": {},
   "outputs": [
    {
     "name": "stdout",
     "output_type": "stream",
     "text": [
      "1.6389948300053163\n",
      "{'rmse': 6723.02419255753, 'mae': 304.88728394347487, 'bias': -20.23255642125966, 'aps': 0.09241238644928608}\n"
     ]
    }
   ],
   "source": [
    "combined_train_predictions = freq_model.predict(train_plus_df[features]) * amount_model.predict(train_plus_df[features])\n",
    "combined_factor = (\n",
    "    np.average(train_plus_df[\"claim_amount_per_year\"], weights=train_plus_df[\"Exposure\"])\n",
    "    / np.average(combined_train_predictions, weights=train_plus_df[\"Exposure\"])\n",
    ")\n",
    "print(combined_factor)\n",
    "combined_predictions = freq_model.predict(test_df[features]) * amount_model.predict(test_df[features]) * combined_factor\n",
    "combined_metrics = get_metrics(test_df[\"claim_amount_per_year\"], combined_predictions, weights=test_df[\"Exposure\"])\n",
    "print(combined_metrics)\n",
    "evaluations.append({\"model_name\": \"combined_model\", **combined_metrics})"
   ]
  },
  {
   "cell_type": "code",
   "execution_count": 24,
   "metadata": {},
   "outputs": [
    {
     "data": {
      "text/plain": [
       "count    133780.000000\n",
       "mean        188.105331\n",
       "std         120.229456\n",
       "min          34.417115\n",
       "25%         117.563685\n",
       "50%         149.028416\n",
       "75%         213.595894\n",
       "max        1891.696633\n",
       "dtype: float64"
      ]
     },
     "execution_count": 24,
     "metadata": {},
     "output_type": "execute_result"
    }
   ],
   "source": [
    "pd.Series(combined_predictions).describe()"
   ]
  },
  {
   "cell_type": "code",
   "execution_count": 25,
   "metadata": {},
   "outputs": [
    {
     "data": {
      "image/png": "[encoded data removed]",
      "text/plain": [
       "<Figure size 400x300 with 1 Axes>"
      ]
     },
     "metadata": {},
     "output_type": "display_data"
    }
   ],
   "source": [
    "fig, ax = plt.subplots(figsize=(4,3))\n",
    "ax.hist(np.clip(combined_predictions, None, 1000), weights=test_df[\"Exposure\"]);"
   ]
  },
  {
   "cell_type": "code",
   "execution_count": 26,
   "metadata": {},
   "outputs": [
    {
     "data": {
      "image/png": "[encoded data removed]",
      "text/plain": [
       "<Figure size 400x300 with 1 Axes>"
      ]
     },
     "metadata": {},
     "output_type": "display_data"
    }
   ],
   "source": [
    "plot_quantiles(test_df[\"claim_amount_per_year\"], combined_predictions, weights=test_df[\"Exposure\"], figsize=(4,3));"
   ]
  },
  {
   "cell_type": "markdown",
   "metadata": {},
   "source": [
    "## Vergleich"
   ]
  },
  {
   "cell_type": "code",
   "execution_count": 27,
   "metadata": {},
   "outputs": [
    {
     "data": {
      "text/html": [
       "<div>\n",
       "<style scoped>\n",
       "    .dataframe tbody tr th:only-of-type {\n",
       "        vertical-align: middle;\n",
       "    }\n",
       "\n",
       "    .dataframe tbody tr th {\n",
       "        vertical-align: top;\n",
       "    }\n",
       "\n",
       "    .dataframe thead th {\n",
       "        text-align: right;\n",
       "    }\n",
       "</style>\n",
       "<table border=\"1\" class=\"dataframe\">\n",
       "  <thead>\n",
       "    <tr style=\"text-align: right;\">\n",
       "      <th></th>\n",
       "      <th>model_name</th>\n",
       "      <th>rmse</th>\n",
       "      <th>mae</th>\n",
       "      <th>bias</th>\n",
       "      <th>aps</th>\n",
       "    </tr>\n",
       "  </thead>\n",
       "  <tbody>\n",
       "    <tr>\n",
       "      <th>0</th>\n",
       "      <td>global_mean</td>\n",
       "      <td>6723.865836</td>\n",
       "      <td>310.450557</td>\n",
       "      <td>-19.783510</td>\n",
       "      <td>0.048924</td>\n",
       "    </tr>\n",
       "    <tr>\n",
       "      <th>1</th>\n",
       "      <td>constant_zero</td>\n",
       "      <td>6725.587737</td>\n",
       "      <td>153.460152</td>\n",
       "      <td>153.460152</td>\n",
       "      <td>0.048924</td>\n",
       "    </tr>\n",
       "    <tr>\n",
       "      <th>2</th>\n",
       "      <td>regression_model</td>\n",
       "      <td>6722.952222</td>\n",
       "      <td>303.976035</td>\n",
       "      <td>-20.371276</td>\n",
       "      <td>0.096064</td>\n",
       "    </tr>\n",
       "    <tr>\n",
       "      <th>3</th>\n",
       "      <td>freq_model</td>\n",
       "      <td>6723.029622</td>\n",
       "      <td>305.102369</td>\n",
       "      <td>-20.244320</td>\n",
       "      <td>0.094330</td>\n",
       "    </tr>\n",
       "    <tr>\n",
       "      <th>4</th>\n",
       "      <td>combined_model</td>\n",
       "      <td>6723.024193</td>\n",
       "      <td>304.887284</td>\n",
       "      <td>-20.232556</td>\n",
       "      <td>0.092412</td>\n",
       "    </tr>\n",
       "  </tbody>\n",
       "</table>\n",
       "</div>"
      ],
      "text/plain": [
       "         model_name         rmse         mae        bias       aps\n",
       "0       global_mean  6723.865836  310.450557  -19.783510  0.048924\n",
       "1     constant_zero  6725.587737  153.460152  153.460152  0.048924\n",
       "2  regression_model  6722.952222  303.976035  -20.371276  0.096064\n",
       "3        freq_model  6723.029622  305.102369  -20.244320  0.094330\n",
       "4    combined_model  6723.024193  304.887284  -20.232556  0.092412"
      ]
     },
     "execution_count": 27,
     "metadata": {},
     "output_type": "execute_result"
    }
   ],
   "source": [
    "pd.DataFrame(evaluations)"
   ]
  }
 ],
 "metadata": {
  "kernelspec": {
   "display_name": "mtpl-LOzzp6cm-py3.12",
   "language": "python",
   "name": "python3"
  },
  "language_info": {
   "codemirror_mode": {
    "name": "ipython",
    "version": 3
   },
   "file_extension": ".py",
   "mimetype": "text/x-python",
   "name": "python",
   "nbconvert_exporter": "python",
   "pygments_lexer": "ipython3",
   "version": "3.12.3"
  }
 },
 "nbformat": 4,
 "nbformat_minor": 2
}
