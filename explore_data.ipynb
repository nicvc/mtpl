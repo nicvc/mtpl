{
 "cells": [
  {
   "cell_type": "markdown",
   "metadata": {},
   "source": [
    "# Daten erkunden und überprüfen"
   ]
  },
  {
   "cell_type": "markdown",
   "metadata": {},
   "source": [
    "Wir laden beide Datasets, schauen uns die Daten an und überprüfen, ob die Daten unseren Vorstellungen entsprechen."
   ]
  },
  {
   "cell_type": "code",
   "execution_count": 1,
   "metadata": {},
   "outputs": [],
   "source": [
    "import pandas as pd\n",
    "import numpy as np\n",
    "import matplotlib.pyplot as plt\n",
    "from mtpl.data_util import load_freq_df, load_sev_df, print_data_summary"
   ]
  },
  {
   "cell_type": "markdown",
   "metadata": {},
   "source": [
    "## Daten laden"
   ]
  },
  {
   "cell_type": "markdown",
   "metadata": {},
   "source": [
    "Vertragsdatensatz:"
   ]
  },
  {
   "cell_type": "code",
   "execution_count": 2,
   "metadata": {},
   "outputs": [
    {
     "name": "stdout",
     "output_type": "stream",
     "text": [
      "678013\n"
     ]
    },
    {
     "data": {
      "text/html": [
       "<div>\n",
       "<style scoped>\n",
       "    .dataframe tbody tr th:only-of-type {\n",
       "        vertical-align: middle;\n",
       "    }\n",
       "\n",
       "    .dataframe tbody tr th {\n",
       "        vertical-align: top;\n",
       "    }\n",
       "\n",
       "    .dataframe thead th {\n",
       "        text-align: right;\n",
       "    }\n",
       "</style>\n",
       "<table border=\"1\" class=\"dataframe\">\n",
       "  <thead>\n",
       "    <tr style=\"text-align: right;\">\n",
       "      <th></th>\n",
       "      <th>IDpol</th>\n",
       "      <th>ClaimNb</th>\n",
       "      <th>Exposure</th>\n",
       "      <th>Area</th>\n",
       "      <th>VehPower</th>\n",
       "      <th>VehAge</th>\n",
       "      <th>DrivAge</th>\n",
       "      <th>BonusMalus</th>\n",
       "      <th>VehBrand</th>\n",
       "      <th>VehGas</th>\n",
       "      <th>Density</th>\n",
       "      <th>Region</th>\n",
       "    </tr>\n",
       "  </thead>\n",
       "  <tbody>\n",
       "    <tr>\n",
       "      <th>0</th>\n",
       "      <td>1</td>\n",
       "      <td>1.0</td>\n",
       "      <td>0.10</td>\n",
       "      <td>D</td>\n",
       "      <td>5.0</td>\n",
       "      <td>0.0</td>\n",
       "      <td>55.0</td>\n",
       "      <td>50.0</td>\n",
       "      <td>B12</td>\n",
       "      <td>Regular</td>\n",
       "      <td>1217.0</td>\n",
       "      <td>R82</td>\n",
       "    </tr>\n",
       "    <tr>\n",
       "      <th>1</th>\n",
       "      <td>3</td>\n",
       "      <td>1.0</td>\n",
       "      <td>0.77</td>\n",
       "      <td>D</td>\n",
       "      <td>5.0</td>\n",
       "      <td>0.0</td>\n",
       "      <td>55.0</td>\n",
       "      <td>50.0</td>\n",
       "      <td>B12</td>\n",
       "      <td>Regular</td>\n",
       "      <td>1217.0</td>\n",
       "      <td>R82</td>\n",
       "    </tr>\n",
       "    <tr>\n",
       "      <th>2</th>\n",
       "      <td>5</td>\n",
       "      <td>1.0</td>\n",
       "      <td>0.75</td>\n",
       "      <td>B</td>\n",
       "      <td>6.0</td>\n",
       "      <td>2.0</td>\n",
       "      <td>52.0</td>\n",
       "      <td>50.0</td>\n",
       "      <td>B12</td>\n",
       "      <td>Diesel</td>\n",
       "      <td>54.0</td>\n",
       "      <td>R22</td>\n",
       "    </tr>\n",
       "    <tr>\n",
       "      <th>3</th>\n",
       "      <td>10</td>\n",
       "      <td>1.0</td>\n",
       "      <td>0.09</td>\n",
       "      <td>B</td>\n",
       "      <td>7.0</td>\n",
       "      <td>0.0</td>\n",
       "      <td>46.0</td>\n",
       "      <td>50.0</td>\n",
       "      <td>B12</td>\n",
       "      <td>Diesel</td>\n",
       "      <td>76.0</td>\n",
       "      <td>R72</td>\n",
       "    </tr>\n",
       "    <tr>\n",
       "      <th>4</th>\n",
       "      <td>11</td>\n",
       "      <td>1.0</td>\n",
       "      <td>0.84</td>\n",
       "      <td>B</td>\n",
       "      <td>7.0</td>\n",
       "      <td>0.0</td>\n",
       "      <td>46.0</td>\n",
       "      <td>50.0</td>\n",
       "      <td>B12</td>\n",
       "      <td>Diesel</td>\n",
       "      <td>76.0</td>\n",
       "      <td>R72</td>\n",
       "    </tr>\n",
       "  </tbody>\n",
       "</table>\n",
       "</div>"
      ],
      "text/plain": [
       "   IDpol  ClaimNb  Exposure Area  VehPower  VehAge  DrivAge  BonusMalus  \\\n",
       "0      1      1.0      0.10    D       5.0     0.0     55.0        50.0   \n",
       "1      3      1.0      0.77    D       5.0     0.0     55.0        50.0   \n",
       "2      5      1.0      0.75    B       6.0     2.0     52.0        50.0   \n",
       "3     10      1.0      0.09    B       7.0     0.0     46.0        50.0   \n",
       "4     11      1.0      0.84    B       7.0     0.0     46.0        50.0   \n",
       "\n",
       "  VehBrand   VehGas  Density Region  \n",
       "0      B12  Regular   1217.0    R82  \n",
       "1      B12  Regular   1217.0    R82  \n",
       "2      B12   Diesel     54.0    R22  \n",
       "3      B12   Diesel     76.0    R72  \n",
       "4      B12   Diesel     76.0    R72  "
      ]
     },
     "execution_count": 2,
     "metadata": {},
     "output_type": "execute_result"
    }
   ],
   "source": [
    "freq_df = load_freq_df()\n",
    "n_freq = freq_df.shape[0]\n",
    "print(n_freq)\n",
    "freq_df.head(5)"
   ]
  },
  {
   "cell_type": "markdown",
   "metadata": {},
   "source": [
    "Schadensfalldatensatz:"
   ]
  },
  {
   "cell_type": "code",
   "execution_count": 3,
   "metadata": {},
   "outputs": [
    {
     "name": "stdout",
     "output_type": "stream",
     "text": [
      "26639\n"
     ]
    },
    {
     "data": {
      "text/html": [
       "<div>\n",
       "<style scoped>\n",
       "    .dataframe tbody tr th:only-of-type {\n",
       "        vertical-align: middle;\n",
       "    }\n",
       "\n",
       "    .dataframe tbody tr th {\n",
       "        vertical-align: top;\n",
       "    }\n",
       "\n",
       "    .dataframe thead th {\n",
       "        text-align: right;\n",
       "    }\n",
       "</style>\n",
       "<table border=\"1\" class=\"dataframe\">\n",
       "  <thead>\n",
       "    <tr style=\"text-align: right;\">\n",
       "      <th></th>\n",
       "      <th>IDpol</th>\n",
       "      <th>ClaimAmount</th>\n",
       "    </tr>\n",
       "  </thead>\n",
       "  <tbody>\n",
       "    <tr>\n",
       "      <th>0</th>\n",
       "      <td>1552</td>\n",
       "      <td>995.20</td>\n",
       "    </tr>\n",
       "    <tr>\n",
       "      <th>1</th>\n",
       "      <td>1010996</td>\n",
       "      <td>1128.12</td>\n",
       "    </tr>\n",
       "    <tr>\n",
       "      <th>2</th>\n",
       "      <td>4024277</td>\n",
       "      <td>1851.11</td>\n",
       "    </tr>\n",
       "    <tr>\n",
       "      <th>3</th>\n",
       "      <td>4007252</td>\n",
       "      <td>1204.00</td>\n",
       "    </tr>\n",
       "    <tr>\n",
       "      <th>4</th>\n",
       "      <td>4046424</td>\n",
       "      <td>1204.00</td>\n",
       "    </tr>\n",
       "  </tbody>\n",
       "</table>\n",
       "</div>"
      ],
      "text/plain": [
       "     IDpol  ClaimAmount\n",
       "0     1552       995.20\n",
       "1  1010996      1128.12\n",
       "2  4024277      1851.11\n",
       "3  4007252      1204.00\n",
       "4  4046424      1204.00"
      ]
     },
     "execution_count": 3,
     "metadata": {},
     "output_type": "execute_result"
    }
   ],
   "source": [
    "sev_df = load_sev_df()\n",
    "n_sev = sev_df.shape[0]\n",
    "print(n_sev)\n",
    "sev_df.head(5)"
   ]
  },
  {
   "cell_type": "markdown",
   "metadata": {},
   "source": [
    "## Spalten erkunden"
   ]
  },
  {
   "cell_type": "code",
   "execution_count": 4,
   "metadata": {},
   "outputs": [
    {
     "name": "stdout",
     "output_type": "stream",
     "text": [
      "<class 'pandas.core.frame.DataFrame'>\n",
      "RangeIndex: 678013 entries, 0 to 678012\n",
      "Data columns (total 12 columns):\n",
      " #   Column      Non-Null Count   Dtype  \n",
      "---  ------      --------------   -----  \n",
      " 0   IDpol       678013 non-null  int64  \n",
      " 1   ClaimNb     678013 non-null  float64\n",
      " 2   Exposure    678013 non-null  float64\n",
      " 3   Area        678013 non-null  object \n",
      " 4   VehPower    678013 non-null  float64\n",
      " 5   VehAge      678013 non-null  float64\n",
      " 6   DrivAge     678013 non-null  float64\n",
      " 7   BonusMalus  678013 non-null  float64\n",
      " 8   VehBrand    678013 non-null  object \n",
      " 9   VehGas      678013 non-null  object \n",
      " 10  Density     678013 non-null  float64\n",
      " 11  Region      678013 non-null  object \n",
      "dtypes: float64(7), int64(1), object(4)\n",
      "memory usage: 62.1+ MB\n"
     ]
    }
   ],
   "source": [
    "freq_df.info()"
   ]
  },
  {
   "cell_type": "code",
   "execution_count": 5,
   "metadata": {},
   "outputs": [
    {
     "name": "stdout",
     "output_type": "stream",
     "text": [
      "<class 'pandas.core.frame.DataFrame'>\n",
      "RangeIndex: 26639 entries, 0 to 26638\n",
      "Data columns (total 2 columns):\n",
      " #   Column       Non-Null Count  Dtype  \n",
      "---  ------       --------------  -----  \n",
      " 0   IDpol        26639 non-null  int64  \n",
      " 1   ClaimAmount  26639 non-null  float64\n",
      "dtypes: float64(1), int64(1)\n",
      "memory usage: 416.4 KB\n"
     ]
    }
   ],
   "source": [
    "sev_df.info()"
   ]
  },
  {
   "cell_type": "markdown",
   "metadata": {},
   "source": [
    "Es gibt keine null-Werte, eine Sorge weniger."
   ]
  },
  {
   "cell_type": "markdown",
   "metadata": {},
   "source": [
    "### IDpol\n",
    "IDPol ist der identifier des Datensatzes. Im Vertragsdatensatz sollte jede id nur einmal vorkommen."
   ]
  },
  {
   "cell_type": "code",
   "execution_count": 6,
   "metadata": {},
   "outputs": [
    {
     "data": {
      "text/plain": [
       "0"
      ]
     },
     "execution_count": 6,
     "metadata": {},
     "output_type": "execute_result"
    }
   ],
   "source": [
    "n_freq - freq_df[\"IDpol\"].unique().size"
   ]
  },
  {
   "cell_type": "markdown",
   "metadata": {},
   "source": [
    "Im Schadensdatensatz kann eine ID auch mehrmals vorkommen, da es mehrere Schäden pro Vertrag geben kann."
   ]
  },
  {
   "cell_type": "code",
   "execution_count": 7,
   "metadata": {},
   "outputs": [
    {
     "data": {
      "text/plain": [
       "IDpol\n",
       "2262511    66\n",
       "2282134    36\n",
       "2227533    25\n",
       "2220367    24\n",
       "2277846    23\n",
       "Name: count, dtype: int64"
      ]
     },
     "execution_count": 7,
     "metadata": {},
     "output_type": "execute_result"
    }
   ],
   "source": [
    "sev_df[\"IDpol\"].value_counts(ascending=False).head(5)"
   ]
  },
  {
   "cell_type": "code",
   "execution_count": 8,
   "metadata": {},
   "outputs": [
    {
     "name": "stdout",
     "output_type": "stream",
     "text": [
      "6 IDs aus dem Schadensdatensatz sind nicht im Vertragsdatensatz zu finden.\n"
     ]
    }
   ],
   "source": [
    "non_match = sev_df[\"IDpol\"].unique().size - np.intersect1d(freq_df[\"IDpol\"].unique(), sev_df[\"IDpol\"].unique()).size\n",
    "print(f\"{non_match} IDs aus dem Schadensdatensatz sind nicht im Vertragsdatensatz zu finden.\")"
   ]
  },
  {
   "cell_type": "markdown",
   "metadata": {},
   "source": [
    "### ClaimNb"
   ]
  },
  {
   "cell_type": "code",
   "execution_count": 9,
   "metadata": {},
   "outputs": [
    {
     "name": "stdout",
     "output_type": "stream",
     "text": [
      "34060 Verträge haben mindestens einen Claim, das entspricht 5.02%\n",
      "Claims insgesamt:  36102.0\n"
     ]
    }
   ],
   "source": [
    "freq_has_claim = freq_df[freq_df[\"ClaimNb\"] > 0].shape[0]\n",
    "print(\"{:d} Verträge haben mindestens einen Claim, das entspricht {:.2f}%\".format(freq_has_claim, freq_has_claim / n_freq * 100))\n",
    "print(\"Claims insgesamt: \", freq_df[\"ClaimNb\"].sum())"
   ]
  },
  {
   "cell_type": "markdown",
   "metadata": {},
   "source": [
    "Wie zu erwarten sind die meisten Verträge ohne Schadensfall. Wir werden später ein Modell und Fehlerfunktion wählen, das mit dieser Verteilung in der Zielvariablen umgehen kann."
   ]
  },
  {
   "cell_type": "code",
   "execution_count": 10,
   "metadata": {},
   "outputs": [
    {
     "data": {
      "text/plain": [
       "ClaimNb\n",
       "0.0     643953\n",
       "1.0      32178\n",
       "2.0       1784\n",
       "3.0         82\n",
       "4.0          7\n",
       "5.0          2\n",
       "6.0          1\n",
       "8.0          1\n",
       "9.0          1\n",
       "11.0         3\n",
       "16.0         1\n",
       "Name: count, dtype: int64"
      ]
     },
     "execution_count": 10,
     "metadata": {},
     "output_type": "execute_result"
    }
   ],
   "source": [
    "freq_df[\"ClaimNb\"].value_counts().sort_index()"
   ]
  },
  {
   "cell_type": "markdown",
   "metadata": {},
   "source": [
    "### Merge\n",
    "Bevor wir fortfahren, führen wir die Vertragsdaten und die Schadensfälle per left join zusammen."
   ]
  },
  {
   "cell_type": "code",
   "execution_count": 11,
   "metadata": {},
   "outputs": [
    {
     "data": {
      "text/html": [
       "<div>\n",
       "<style scoped>\n",
       "    .dataframe tbody tr th:only-of-type {\n",
       "        vertical-align: middle;\n",
       "    }\n",
       "\n",
       "    .dataframe tbody tr th {\n",
       "        vertical-align: top;\n",
       "    }\n",
       "\n",
       "    .dataframe thead th {\n",
       "        text-align: right;\n",
       "    }\n",
       "</style>\n",
       "<table border=\"1\" class=\"dataframe\">\n",
       "  <thead>\n",
       "    <tr style=\"text-align: right;\">\n",
       "      <th></th>\n",
       "      <th>IDpol</th>\n",
       "      <th>ClaimNb</th>\n",
       "      <th>Exposure</th>\n",
       "      <th>Area</th>\n",
       "      <th>VehPower</th>\n",
       "      <th>VehAge</th>\n",
       "      <th>DrivAge</th>\n",
       "      <th>BonusMalus</th>\n",
       "      <th>VehBrand</th>\n",
       "      <th>VehGas</th>\n",
       "      <th>Density</th>\n",
       "      <th>Region</th>\n",
       "      <th>claim_count</th>\n",
       "      <th>claim_amount</th>\n",
       "    </tr>\n",
       "  </thead>\n",
       "  <tbody>\n",
       "    <tr>\n",
       "      <th>66</th>\n",
       "      <td>139</td>\n",
       "      <td>1.0</td>\n",
       "      <td>0.75</td>\n",
       "      <td>F</td>\n",
       "      <td>7.0</td>\n",
       "      <td>1.0</td>\n",
       "      <td>61.0</td>\n",
       "      <td>50.0</td>\n",
       "      <td>B12</td>\n",
       "      <td>Regular</td>\n",
       "      <td>27000.0</td>\n",
       "      <td>R11</td>\n",
       "      <td>1.0</td>\n",
       "      <td>303.00</td>\n",
       "    </tr>\n",
       "    <tr>\n",
       "      <th>93</th>\n",
       "      <td>190</td>\n",
       "      <td>1.0</td>\n",
       "      <td>0.14</td>\n",
       "      <td>B</td>\n",
       "      <td>12.0</td>\n",
       "      <td>5.0</td>\n",
       "      <td>50.0</td>\n",
       "      <td>60.0</td>\n",
       "      <td>B12</td>\n",
       "      <td>Diesel</td>\n",
       "      <td>56.0</td>\n",
       "      <td>R25</td>\n",
       "      <td>1.0</td>\n",
       "      <td>1981.84</td>\n",
       "    </tr>\n",
       "    <tr>\n",
       "      <th>199</th>\n",
       "      <td>414</td>\n",
       "      <td>1.0</td>\n",
       "      <td>0.14</td>\n",
       "      <td>E</td>\n",
       "      <td>4.0</td>\n",
       "      <td>0.0</td>\n",
       "      <td>36.0</td>\n",
       "      <td>85.0</td>\n",
       "      <td>B12</td>\n",
       "      <td>Regular</td>\n",
       "      <td>4792.0</td>\n",
       "      <td>R11</td>\n",
       "      <td>1.0</td>\n",
       "      <td>1456.55</td>\n",
       "    </tr>\n",
       "    <tr>\n",
       "      <th>205</th>\n",
       "      <td>424</td>\n",
       "      <td>2.0</td>\n",
       "      <td>0.62</td>\n",
       "      <td>F</td>\n",
       "      <td>10.0</td>\n",
       "      <td>0.0</td>\n",
       "      <td>51.0</td>\n",
       "      <td>100.0</td>\n",
       "      <td>B12</td>\n",
       "      <td>Regular</td>\n",
       "      <td>27000.0</td>\n",
       "      <td>R11</td>\n",
       "      <td>2.0</td>\n",
       "      <td>10834.00</td>\n",
       "    </tr>\n",
       "    <tr>\n",
       "      <th>223</th>\n",
       "      <td>463</td>\n",
       "      <td>1.0</td>\n",
       "      <td>0.31</td>\n",
       "      <td>A</td>\n",
       "      <td>5.0</td>\n",
       "      <td>0.0</td>\n",
       "      <td>45.0</td>\n",
       "      <td>50.0</td>\n",
       "      <td>B12</td>\n",
       "      <td>Regular</td>\n",
       "      <td>12.0</td>\n",
       "      <td>R73</td>\n",
       "      <td>1.0</td>\n",
       "      <td>3986.67</td>\n",
       "    </tr>\n",
       "  </tbody>\n",
       "</table>\n",
       "</div>"
      ],
      "text/plain": [
       "     IDpol  ClaimNb  Exposure Area  VehPower  VehAge  DrivAge  BonusMalus  \\\n",
       "66     139      1.0      0.75    F       7.0     1.0     61.0        50.0   \n",
       "93     190      1.0      0.14    B      12.0     5.0     50.0        60.0   \n",
       "199    414      1.0      0.14    E       4.0     0.0     36.0        85.0   \n",
       "205    424      2.0      0.62    F      10.0     0.0     51.0       100.0   \n",
       "223    463      1.0      0.31    A       5.0     0.0     45.0        50.0   \n",
       "\n",
       "    VehBrand   VehGas  Density Region  claim_count  claim_amount  \n",
       "66       B12  Regular  27000.0    R11          1.0        303.00  \n",
       "93       B12   Diesel     56.0    R25          1.0       1981.84  \n",
       "199      B12  Regular   4792.0    R11          1.0       1456.55  \n",
       "205      B12  Regular  27000.0    R11          2.0      10834.00  \n",
       "223      B12  Regular     12.0    R73          1.0       3986.67  "
      ]
     },
     "execution_count": 11,
     "metadata": {},
     "output_type": "execute_result"
    }
   ],
   "source": [
    "claims_by_pol = sev_df.groupby(\"IDpol\").agg(\n",
    "    claim_count=pd.NamedAgg(column=\"IDpol\", aggfunc=\"count\"),\n",
    "    claim_amount=pd.NamedAgg(column=\"ClaimAmount\", aggfunc=\"sum\"),\n",
    ")\n",
    "merge_df = freq_df.merge(claims_by_pol, how=\"left\", left_on=\"IDpol\", right_index=True)\n",
    "merge_df[\"claim_count\"] = merge_df[\"claim_count\"].fillna(0)\n",
    "merge_df[\"claim_amount\"] = merge_df[\"claim_amount\"].fillna(0.0)\n",
    "merge_df[merge_df[\"claim_count\"] > 0].head(5)"
   ]
  },
  {
   "cell_type": "code",
   "execution_count": 12,
   "metadata": {},
   "outputs": [
    {
     "data": {
      "text/plain": [
       "claim_count\n",
       "0.0     653069\n",
       "1.0      23571\n",
       "2.0       1298\n",
       "3.0         62\n",
       "4.0          5\n",
       "5.0          2\n",
       "6.0          1\n",
       "8.0          1\n",
       "9.0          1\n",
       "11.0         2\n",
       "16.0         1\n",
       "Name: count, dtype: int64"
      ]
     },
     "execution_count": 12,
     "metadata": {},
     "output_type": "execute_result"
    }
   ],
   "source": [
    "merge_df[\"claim_count\"].value_counts().sort_index()"
   ]
  },
  {
   "cell_type": "code",
   "execution_count": 13,
   "metadata": {},
   "outputs": [
    {
     "data": {
      "text/plain": [
       "ClaimNb  claim_count\n",
       "1.0      0.0            8608\n",
       "2.0      0.0             485\n",
       "         1.0               1\n",
       "3.0      0.0              20\n",
       "4.0      0.0               2\n",
       "11.0     0.0               1\n",
       "Name: IDpol, dtype: int64"
      ]
     },
     "execution_count": 13,
     "metadata": {},
     "output_type": "execute_result"
    }
   ],
   "source": [
    "merge_df[merge_df[\"ClaimNb\"] != merge_df[\"claim_count\"]].groupby([\"ClaimNb\", \"claim_count\"])[\"IDpol\"].count()"
   ]
  },
  {
   "cell_type": "markdown",
   "metadata": {},
   "source": [
    "Für einige Reihen haben wir nicht so viele Schadensfälle, wie im Vertragsdatensatz angegeben. Das ist schlecht, weil unsere Zielvariable damit noch öfter den Wert 0 haben wird, als bisher angenommen. Wir werden diese Reihen von jetzt an ignorieren, da es sich wahrscheinlich um fehlerhafte Daten handelt."
   ]
  },
  {
   "cell_type": "code",
   "execution_count": 14,
   "metadata": {},
   "outputs": [
    {
     "name": "stdout",
     "output_type": "stream",
     "text": [
      "24943 Veträge haben einen positiven claim_amount.\n",
      "24943 Verträge haben mindestens einen Schadensfall.\n",
      "Das entspricht 3.73% aller Verträge.\n"
     ]
    }
   ],
   "source": [
    "df = merge_df[merge_df[\"ClaimNb\"] == merge_df[\"claim_count\"]].copy()\n",
    "n = df.shape[0]\n",
    "n_has_claim = df[df[\"claim_count\"] > 0].shape[0]\n",
    "n_pos_amount = df[df[\"claim_amount\"] > 0].shape[0]\n",
    "print(f\"{n_pos_amount} Veträge haben einen positiven claim_amount.\")\n",
    "print(f\"{n_has_claim} Verträge haben mindestens einen Schadensfall.\")\n",
    "print(\"Das entspricht {:.2f}% aller Verträge.\".format(n_has_claim / n * 100))"
   ]
  },
  {
   "cell_type": "markdown",
   "metadata": {},
   "source": [
    "### Exposure"
   ]
  },
  {
   "cell_type": "code",
   "execution_count": 15,
   "metadata": {},
   "outputs": [
    {
     "data": {
      "text/plain": [
       "count    668896.000000\n",
       "mean          0.529071\n",
       "std           0.364249\n",
       "min           0.002732\n",
       "25%           0.180000\n",
       "50%           0.490000\n",
       "75%           0.990000\n",
       "max           2.010000\n",
       "Name: Exposure, dtype: float64"
      ]
     },
     "execution_count": 15,
     "metadata": {},
     "output_type": "execute_result"
    }
   ],
   "source": [
    "df[\"Exposure\"].describe()"
   ]
  },
  {
   "cell_type": "code",
   "execution_count": 16,
   "metadata": {},
   "outputs": [
    {
     "data": {
      "text/plain": [
       "<Axes: >"
      ]
     },
     "execution_count": 16,
     "metadata": {},
     "output_type": "execute_result"
    },
    {
     "data": {
      "image/png": "[encoded data removed]",
      "text/plain": [
       "<Figure size 600x300 with 1 Axes>"
      ]
     },
     "metadata": {},
     "output_type": "display_data"
    }
   ],
   "source": [
    "df[\"Exposure\"].hist(bins=30, figsize=(6,3))"
   ]
  },
  {
   "cell_type": "markdown",
   "metadata": {},
   "source": [
    "Sehr kurze Vertragslaufzeiten können zu Ausreißern in der Zielvariable führen. Das werden wir später genauer überprüfen."
   ]
  },
  {
   "cell_type": "code",
   "execution_count": 17,
   "metadata": {},
   "outputs": [
    {
     "name": "stdout",
     "output_type": "stream",
     "text": [
      "Daten 549228, positive Zielvariable: 23845 (4.34%)\n",
      "Daten 119668, positive Zielvariable: 1098 (0.92%)\n"
     ]
    }
   ],
   "source": [
    "print_data_summary(df[df[\"Exposure\"] >= 0.1], \"claim_amount\")\n",
    "print_data_summary(df[df[\"Exposure\"] < 0.1], \"claim_amount\")"
   ]
  },
  {
   "cell_type": "code",
   "execution_count": 18,
   "metadata": {},
   "outputs": [
    {
     "data": {
      "text/html": [
       "<div>\n",
       "<style scoped>\n",
       "    .dataframe tbody tr th:only-of-type {\n",
       "        vertical-align: middle;\n",
       "    }\n",
       "\n",
       "    .dataframe tbody tr th {\n",
       "        vertical-align: top;\n",
       "    }\n",
       "\n",
       "    .dataframe thead th {\n",
       "        text-align: right;\n",
       "    }\n",
       "</style>\n",
       "<table border=\"1\" class=\"dataframe\">\n",
       "  <thead>\n",
       "    <tr style=\"text-align: right;\">\n",
       "      <th></th>\n",
       "      <th>claims_per_year</th>\n",
       "      <th>claim_count</th>\n",
       "      <th>Exposure</th>\n",
       "    </tr>\n",
       "  </thead>\n",
       "  <tbody>\n",
       "    <tr>\n",
       "      <th>262178</th>\n",
       "      <td>365.000000</td>\n",
       "      <td>1.0</td>\n",
       "      <td>0.002740</td>\n",
       "    </tr>\n",
       "    <tr>\n",
       "      <th>286602</th>\n",
       "      <td>365.000000</td>\n",
       "      <td>1.0</td>\n",
       "      <td>0.002740</td>\n",
       "    </tr>\n",
       "    <tr>\n",
       "      <th>401872</th>\n",
       "      <td>365.000000</td>\n",
       "      <td>1.0</td>\n",
       "      <td>0.002740</td>\n",
       "    </tr>\n",
       "    <tr>\n",
       "      <th>604298</th>\n",
       "      <td>365.000000</td>\n",
       "      <td>2.0</td>\n",
       "      <td>0.005479</td>\n",
       "    </tr>\n",
       "    <tr>\n",
       "      <th>617664</th>\n",
       "      <td>243.333333</td>\n",
       "      <td>2.0</td>\n",
       "      <td>0.008219</td>\n",
       "    </tr>\n",
       "  </tbody>\n",
       "</table>\n",
       "</div>"
      ],
      "text/plain": [
       "        claims_per_year  claim_count  Exposure\n",
       "262178       365.000000          1.0  0.002740\n",
       "286602       365.000000          1.0  0.002740\n",
       "401872       365.000000          1.0  0.002740\n",
       "604298       365.000000          2.0  0.005479\n",
       "617664       243.333333          2.0  0.008219"
      ]
     },
     "execution_count": 18,
     "metadata": {},
     "output_type": "execute_result"
    }
   ],
   "source": [
    "df[\"claims_per_year\"] = df[\"claim_count\"] / df[\"Exposure\"]\n",
    "df[[\"claims_per_year\", \"claim_count\", \"Exposure\"]].sort_values(\"claims_per_year\", ascending=False).head(5)"
   ]
  },
  {
   "cell_type": "code",
   "execution_count": 19,
   "metadata": {},
   "outputs": [
    {
     "data": {
      "image/png": "[encoded data removed]",
      "text/plain": [
       "<Figure size 600x300 with 1 Axes>"
      ]
     },
     "metadata": {},
     "output_type": "display_data"
    }
   ],
   "source": [
    "df[df[\"claims_per_year\"] > 0][\"claims_per_year\"].clip(upper=10).hist(bins=10, figsize=(6,3));"
   ]
  },
  {
   "cell_type": "markdown",
   "metadata": {},
   "source": [
    "### Zielvariable claim_amount_per_year"
   ]
  },
  {
   "cell_type": "code",
   "execution_count": 20,
   "metadata": {},
   "outputs": [
    {
     "data": {
      "text/html": [
       "<div>\n",
       "<style scoped>\n",
       "    .dataframe tbody tr th:only-of-type {\n",
       "        vertical-align: middle;\n",
       "    }\n",
       "\n",
       "    .dataframe tbody tr th {\n",
       "        vertical-align: top;\n",
       "    }\n",
       "\n",
       "    .dataframe thead th {\n",
       "        text-align: right;\n",
       "    }\n",
       "</style>\n",
       "<table border=\"1\" class=\"dataframe\">\n",
       "  <thead>\n",
       "    <tr style=\"text-align: right;\">\n",
       "      <th></th>\n",
       "      <th>claim_amount_per_year</th>\n",
       "      <th>claim_amount</th>\n",
       "      <th>Exposure</th>\n",
       "    </tr>\n",
       "  </thead>\n",
       "  <tbody>\n",
       "    <tr>\n",
       "      <th>150027</th>\n",
       "      <td>1.852455e+07</td>\n",
       "      <td>4075400.56</td>\n",
       "      <td>0.22</td>\n",
       "    </tr>\n",
       "    <tr>\n",
       "      <th>25274</th>\n",
       "      <td>1.830737e+07</td>\n",
       "      <td>183073.66</td>\n",
       "      <td>0.01</td>\n",
       "    </tr>\n",
       "    <tr>\n",
       "      <th>399662</th>\n",
       "      <td>9.102500e+06</td>\n",
       "      <td>182050.00</td>\n",
       "      <td>0.02</td>\n",
       "    </tr>\n",
       "    <tr>\n",
       "      <th>368669</th>\n",
       "      <td>4.255057e+06</td>\n",
       "      <td>382955.14</td>\n",
       "      <td>0.09</td>\n",
       "    </tr>\n",
       "    <tr>\n",
       "      <th>270621</th>\n",
       "      <td>4.066164e+06</td>\n",
       "      <td>1301172.60</td>\n",
       "      <td>0.32</td>\n",
       "    </tr>\n",
       "  </tbody>\n",
       "</table>\n",
       "</div>"
      ],
      "text/plain": [
       "        claim_amount_per_year  claim_amount  Exposure\n",
       "150027           1.852455e+07    4075400.56      0.22\n",
       "25274            1.830737e+07     183073.66      0.01\n",
       "399662           9.102500e+06     182050.00      0.02\n",
       "368669           4.255057e+06     382955.14      0.09\n",
       "270621           4.066164e+06    1301172.60      0.32"
      ]
     },
     "execution_count": 20,
     "metadata": {},
     "output_type": "execute_result"
    }
   ],
   "source": [
    "df[\"claim_amount_per_year\"] = df[\"claim_amount\"] / df[\"Exposure\"]\n",
    "df[[\"claim_amount_per_year\", \"claim_amount\", \"Exposure\"]].sort_values(\"claim_amount_per_year\", ascending=False).head(5)"
   ]
  },
  {
   "cell_type": "code",
   "execution_count": 21,
   "metadata": {},
   "outputs": [
    {
     "name": "stdout",
     "output_type": "stream",
     "text": [
      "0.900:    9208.87\n",
      "0.910:   10141.39\n",
      "0.920:   11721.51\n",
      "0.930:   13377.78\n",
      "0.940:   15814.59\n",
      "0.950:   18910.70\n",
      "0.960:   23664.58\n",
      "0.970:   31356.02\n",
      "0.980:   50000.00\n",
      "0.990:  110893.71\n"
     ]
    }
   ],
   "source": [
    "has_claim_df = df[df[\"claim_amount\"] > 0]\n",
    "for q in [0.9 + i/100 for i in range(10)]:\n",
    "    print(\"{:.3f}: {:10.2f}\".format(q, has_claim_df[\"claim_amount_per_year\"].quantile(q)))"
   ]
  },
  {
   "cell_type": "markdown",
   "metadata": {},
   "source": [
    "Wir können später versuchen im Trainingsdatensatz die Zielvariable auf einen Maximalwert zu clippen."
   ]
  },
  {
   "cell_type": "code",
   "execution_count": 22,
   "metadata": {},
   "outputs": [
    {
     "data": {
      "image/png": "[encoded data removed]",
      "text/plain": [
       "<Figure size 600x300 with 1 Axes>"
      ]
     },
     "metadata": {},
     "output_type": "display_data"
    }
   ],
   "source": [
    "df[df[\"claim_amount_per_year\"] > 0][\"claim_amount_per_year\"].clip(upper=1e4).hist(bins=30, figsize=(6,3));"
   ]
  },
  {
   "cell_type": "markdown",
   "metadata": {},
   "source": [
    "### Kategorische Features\n",
    "Wir schauen uns für jedes kategorische Feature die Kardinalität an."
   ]
  },
  {
   "cell_type": "code",
   "execution_count": 23,
   "metadata": {},
   "outputs": [
    {
     "name": "stdout",
     "output_type": "stream",
     "text": [
      "Area: 6\n",
      "VehBrand: 11\n",
      "VehGas: 2\n",
      "Region: 22\n",
      "Folgende Werte kommen weniger als 2000 mal vor: {'R43': 1308}\n"
     ]
    }
   ],
   "source": [
    "categorical_features = [\"Area\", \"VehBrand\", \"VehGas\", \"Region\"]\n",
    "for f in categorical_features:\n",
    "    print(f\"{f}:\", df[f].unique().size)\n",
    "    s = df[f].value_counts()\n",
    "    t = 2000\n",
    "    s = s[s<t].copy()\n",
    "    if s.shape[0] > 0:\n",
    "        print(f\"Folgende Werte kommen weniger als {t} mal vor:\", s.to_dict())\n",
    "    "
   ]
  },
  {
   "cell_type": "markdown",
   "metadata": {},
   "source": [
    "Die Kardinalität der kategorischen Features ist nicht zu groß und es gibt keine Werte die nicht zu selten vorkommen."
   ]
  },
  {
   "cell_type": "markdown",
   "metadata": {},
   "source": [
    "### Numerische Features\n",
    "Wir schauen uns zu jedem numerischen Feature die Verteilung im Histogram an."
   ]
  },
  {
   "cell_type": "code",
   "execution_count": 24,
   "metadata": {},
   "outputs": [],
   "source": [
    "numerical_features = [\"VehPower\", \"VehAge\", \"DrivAge\", \"BonusMalus\", \"Density\"]"
   ]
  },
  {
   "cell_type": "code",
   "execution_count": 25,
   "metadata": {},
   "outputs": [
    {
     "data": {
      "image/png": "[encoded data removed]",
      "text/plain": [
       "<Figure size 800x600 with 6 Axes>"
      ]
     },
     "metadata": {},
     "output_type": "display_data"
    }
   ],
   "source": [
    "df[numerical_features].hist(bins=10, figsize=(8, 6), layout=(3, 2))\n",
    "plt.tight_layout()\n",
    "plt.show()"
   ]
  },
  {
   "cell_type": "markdown",
   "metadata": {},
   "source": [
    "Die numerischen Features sind alle nicht-negativ und haben nach oben einige Extremwerte. Wir werden die Werte auf das 95%-Quantil clippen."
   ]
  },
  {
   "cell_type": "code",
   "execution_count": 26,
   "metadata": {},
   "outputs": [
    {
     "data": {
      "image/png": "[encoded data removed]",
      "text/plain": [
       "<Figure size 800x600 with 6 Axes>"
      ]
     },
     "metadata": {},
     "output_type": "display_data"
    }
   ],
   "source": [
    "df[numerical_features].clip(upper=df[numerical_features].quantile(0.95), axis=1).hist(bins=10, figsize=(8, 6), layout=(3, 2))\n",
    "plt.tight_layout()\n",
    "plt.show()"
   ]
  }
 ],
 "metadata": {
  "kernelspec": {
   "display_name": "mtpl-LOzzp6cm-py3.12",
   "language": "python",
   "name": "python3"
  },
  "language_info": {
   "codemirror_mode": {
    "name": "ipython",
    "version": 3
   },
   "file_extension": ".py",
   "mimetype": "text/x-python",
   "name": "python",
   "nbconvert_exporter": "python",
   "pygments_lexer": "ipython3",
   "version": "3.12.3"
  }
 },
 "nbformat": 4,
 "nbformat_minor": 2
}
